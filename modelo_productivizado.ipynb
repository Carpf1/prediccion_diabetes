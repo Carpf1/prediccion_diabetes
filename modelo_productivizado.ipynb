{
 "cells": [
  {
   "cell_type": "code",
   "execution_count": 8,
   "id": "3207947e",
   "metadata": {},
   "outputs": [
    {
     "ename": "SyntaxError",
     "evalue": "invalid syntax (Temp/ipykernel_13920/3512149304.py, line 1)",
     "output_type": "error",
     "traceback": [
      "\u001b[1;36m  File \u001b[1;32m\"C:\\Users\\CARLOS\\AppData\\Local\\Temp/ipykernel_13920/3512149304.py\"\u001b[1;36m, line \u001b[1;32m1\u001b[0m\n\u001b[1;33m    heroku login\u001b[0m\n\u001b[1;37m           ^\u001b[0m\n\u001b[1;31mSyntaxError\u001b[0m\u001b[1;31m:\u001b[0m invalid syntax\n"
     ]
    }
   ],
   "source": [
    "heroku login"
   ]
  },
  {
   "cell_type": "code",
   "execution_count": 2,
   "id": "fbe39b9f",
   "metadata": {},
   "outputs": [],
   "source": [
    "from flask import Flask,render_template,request,redirect,jsonify\n",
    "import numpy as np\n",
    "from sklearn.ensemble import RandomForestClassifier\n",
    "import pickle\n",
    "\n",
    "with open('c_diabetes.pkl','rb') as file:\n",
    "    classifier=pickle.load(file)"
   ]
  },
  {
   "cell_type": "code",
   "execution_count": 7,
   "id": "35e9bd37",
   "metadata": {},
   "outputs": [
    {
     "name": "stdout",
     "output_type": "stream",
     "text": [
      " * Serving Flask app \"__main__\" (lazy loading)\n",
      " * Environment: production\n",
      "\u001b[31m   WARNING: This is a development server. Do not use it in a production deployment.\u001b[0m\n",
      "\u001b[2m   Use a production WSGI server instead.\u001b[0m\n",
      " * Debug mode: on\n"
     ]
    },
    {
     "name": "stderr",
     "output_type": "stream",
     "text": [
      " * Restarting with watchdog (windowsapi)\n"
     ]
    },
    {
     "ename": "SystemExit",
     "evalue": "1",
     "output_type": "error",
     "traceback": [
      "An exception has occurred, use %tb to see the full traceback.\n",
      "\u001b[1;31mSystemExit\u001b[0m\u001b[1;31m:\u001b[0m 1\n"
     ]
    }
   ],
   "source": [
    "\n",
    "\n",
    "\n",
    "app = Flask(__name__)\n",
    "\n",
    "@app.route('/')\n",
    "def home():\n",
    "    return render_template('home.html',home_active='active')\n",
    "\n",
    "\n",
    "@app.route('/predict',methods=['GET','POST'])\n",
    "def predict():\n",
    "    if request.method=='POST':\n",
    "        num_embarazos=request.form.get('Pregnancies')\n",
    "        Azucar=request.form.get('Glucose')\n",
    "        Presion_diastolica=request.form.get('BloodPressure')\n",
    "        Grasa_Triceps=request.form.get('SkinThickness')\n",
    "        nivel_Insulina=request.form.get('InsulinLevel')\n",
    "        Grasa_corporal=request.form.get('BodyMassIndex')\n",
    "        Antecedentes_diabeticos=request.form.get('DiabetesPedigreeFunction')\n",
    "        Edad=request.form.get('Age')\n",
    "        \n",
    "        data=np.array([[int(num_embarazos),int(Azucar),int(Presion_diastolica),int(Grasa_Triceps),int(nivel_Insulina),float(Grasa_corporal),float(Antecedentes_diabeticos),int(Edad)]])\n",
    "        prediction=classifier.predict(data)\n",
    "\n",
    "        context={\n",
    "            'num_embarazos':num_embarazos,\n",
    "            'Azucar':Azucar,\n",
    "            'Presion_diastolica':Presion_diastolica,\n",
    "            'Grasa_Triceps':Grasa_Triceps,\n",
    "            'nivel_Insulina':nivel_Insulina,\n",
    "            'Grasa_corporal':Grasa_corporal,\n",
    "            'Antecedentes_diabeticos':Antecedentes_diabeticos,\n",
    "            'Edad':Edad,\n",
    "            'pred':prediction\n",
    "        }        \n",
    "\n",
    "        return render_template('prediction.html',context=context,pred_active='active')\n",
    "\n",
    "    elif request.method=='GET':\n",
    "        return redirect('/')\n",
    "\n",
    "@app.route('/api')\n",
    "def api():\n",
    "    return render_template('api.html',api_active='active')\n",
    "\n",
    "@app.route('/api/<int:num_embarazos>/<int:Azucar>/<int:Presion_diastolica>/<int:Grasa_Triceps>/<int:nivel_Insulina>/<float:Grasa_corporal>/<float:Antecedentes_diabeticos>/<int:Edad>')\n",
    "def api_pred(num_embarazos,Azucar,Presion_diastolica,Grasa_Triceps,nivel_Insulina,Grasa_corporal,Antecedentes_diabeticos,Edad):\n",
    "    data=np.array([[int(num_embarazos),int(Azucar),int(Presion_diastolica),int(Grasa_Triceps),int(nivel_Insulina),float(Grasa_corporal),float(Antecedentes_diabeticos),int(Edad)]])\n",
    "    prediction=classifier.predict(data)\n",
    "\n",
    "    result={\n",
    "            'num_embarazos':num_embarazos,\n",
    "            'Azucar':Azucar,\n",
    "            'Presion_diastolica':Presion_diastolica,\n",
    "            'Grasa_Triceps':Grasa_Triceps,\n",
    "            'nivel_Insulina':nivel_Insulina,\n",
    "            'Grasa_corporal':Grasa_corporal,\n",
    "            'Antecedentes_diabeticos':Antecedentes_diabeticos,\n",
    "            'Edad':Edad,\n",
    "            'pred':bool(prediction[0])\n",
    "        }\n",
    "\n",
    "    return jsonify(result)\n",
    "\n",
    "if __name__ == '__main__':\n",
    "    app.run(port=8080,debug=True)       "
   ]
  },
  {
   "cell_type": "code",
   "execution_count": null,
   "id": "d7f0e19a",
   "metadata": {},
   "outputs": [],
   "source": []
  }
 ],
 "metadata": {
  "kernelspec": {
   "display_name": "Python 3 (ipykernel)",
   "language": "python",
   "name": "python3"
  },
  "language_info": {
   "codemirror_mode": {
    "name": "ipython",
    "version": 3
   },
   "file_extension": ".py",
   "mimetype": "text/x-python",
   "name": "python",
   "nbconvert_exporter": "python",
   "pygments_lexer": "ipython3",
   "version": "3.9.7"
  }
 },
 "nbformat": 4,
 "nbformat_minor": 5
}
